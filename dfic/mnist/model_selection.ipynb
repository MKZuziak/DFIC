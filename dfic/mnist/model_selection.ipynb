{
 "cells": [
  {
   "cell_type": "code",
   "execution_count": 2,
   "metadata": {},
   "outputs": [
    {
     "name": "stderr",
     "output_type": "stream",
     "text": [
      "/home/maciejzuziak/raid/DL_course/DFIC/.venv/lib/python3.11/site-packages/tqdm/auto.py:21: TqdmWarning: IProgress not found. Please update jupyter and ipywidgets. See https://ipywidgets.readthedocs.io/en/stable/user_install.html\n",
      "  from .autonotebook import tqdm as notebook_tqdm\n"
     ]
    }
   ],
   "source": [
    "import time\n",
    "import os\n",
    "import timm\n",
    "import pandas as pd\n",
    "import torch\n",
    "import datasets\n",
    "\n",
    "from torchvision import transforms\n",
    "\n",
    "from dfic.common_functions.utility import count_model_parameters"
   ]
  },
  {
   "cell_type": "code",
   "execution_count": 3,
   "metadata": {},
   "outputs": [],
   "source": [
    "DEVICE = 'cuda:0'"
   ]
  },
  {
   "cell_type": "code",
   "execution_count": 3,
   "metadata": {},
   "outputs": [],
   "source": [
    "def train_epoch(\n",
    "    train_loader,\n",
    "    model,\n",
    "    optimizer,\n",
    "    loss_func\n",
    "    ):    \n",
    "    total_training_images = 0\n",
    "    total_training_loss = 0\n",
    "    total_training_correct = 0\n",
    "    \n",
    "    # Enumerating the data loader\n",
    "    for i, data in enumerate(train_loader):\n",
    "        inputs = data['image']\n",
    "        labels = data['label']\n",
    "        inputs = inputs.to(DEVICE)\n",
    "        labels = labels.to(DEVICE)\n",
    "        # Removing previous gradient\n",
    "        optimizer.zero_grad()\n",
    "        # Using model inference\n",
    "        outputs = model(inputs)\n",
    "        # Calculating the loss\n",
    "        loss = loss_func(outputs, labels)\n",
    "        # Computing the gradients\n",
    "        loss.backward()\n",
    "        # Adjusting networking weights\n",
    "        optimizer.step()\n",
    "                \n",
    "        # Training metrics\n",
    "        total_training_images += labels.size(0)\n",
    "        _, predicted = torch.max(outputs.detach(), 1)\n",
    "        total_training_correct += (predicted == labels).sum().item()\n",
    "        total_training_loss += loss.item()\n",
    "    \n",
    "    return {\"total_training_images\":total_training_images,\n",
    "            \"total_training_loss\":total_training_loss,\n",
    "            \"total_training_correct\":total_training_correct\n",
    "            }"
   ]
  },
  {
   "cell_type": "code",
   "execution_count": 4,
   "metadata": {},
   "outputs": [],
   "source": [
    "def validation_epoch(\n",
    "    validation_loader,\n",
    "    model,\n",
    "    loss_func\n",
    "    ):    \n",
    "    total_validation_images = 0\n",
    "    total_validation_loss = 0\n",
    "    total_validation_correct = 0\n",
    "    model.eval()\n",
    "    \n",
    "    # Enumerating the data loader\n",
    "    with torch.no_grad():\n",
    "        for i, data in enumerate(validation_loader):\n",
    "            inputs = data['image']\n",
    "            labels = data['label']\n",
    "            inputs = inputs.to(DEVICE)\n",
    "            labels = labels.to(DEVICE)\n",
    "            # Using model inference\n",
    "            outputs = model(inputs)\n",
    "\n",
    "            # Testing metrics\n",
    "            total_validation_loss += loss_func(outputs, labels).item()\n",
    "            total_validation_images += labels.size(0)\n",
    "            _, predicted = torch.max(outputs.detach(), 1)\n",
    "            total_validation_correct += (predicted == labels).sum().item()\n",
    "        \n",
    "    return {\"total_validation_images\":total_validation_images,\n",
    "            \"total_validation_loss\":total_validation_loss,\n",
    "            \"total_validation_correct\":total_validation_correct\n",
    "            }"
   ]
  },
  {
   "cell_type": "markdown",
   "metadata": {},
   "source": [
    "# Short-listed candidates\n",
    "List of short-listed candidates due to their size and reported performance"
   ]
  },
  {
   "cell_type": "code",
   "execution_count": 9,
   "metadata": {},
   "outputs": [
    {
     "data": {
      "text/html": [
       "<div>\n",
       "<style scoped>\n",
       "    .dataframe tbody tr th:only-of-type {\n",
       "        vertical-align: middle;\n",
       "    }\n",
       "\n",
       "    .dataframe tbody tr th {\n",
       "        vertical-align: top;\n",
       "    }\n",
       "\n",
       "    .dataframe thead th {\n",
       "        text-align: right;\n",
       "    }\n",
       "</style>\n",
       "<table border=\"1\" class=\"dataframe\">\n",
       "  <thead>\n",
       "    <tr style=\"text-align: right;\">\n",
       "      <th></th>\n",
       "      <th>number_of_parameters</th>\n",
       "    </tr>\n",
       "  </thead>\n",
       "  <tbody>\n",
       "    <tr>\n",
       "      <th>mobilenetv3_small_050</th>\n",
       "      <td>578474</td>\n",
       "    </tr>\n",
       "    <tr>\n",
       "      <th>mobilenetv3_small_075</th>\n",
       "      <td>1027122</td>\n",
       "    </tr>\n",
       "    <tr>\n",
       "      <th>mobilenetv3_small_100</th>\n",
       "      <td>1528106</td>\n",
       "    </tr>\n",
       "    <tr>\n",
       "      <th>resnet18</th>\n",
       "      <td>11181642</td>\n",
       "    </tr>\n",
       "    <tr>\n",
       "      <th>resnet26</th>\n",
       "      <td>13966666</td>\n",
       "    </tr>\n",
       "    <tr>\n",
       "      <th>convmixer_768_32</th>\n",
       "      <td>20348938</td>\n",
       "    </tr>\n",
       "    <tr>\n",
       "      <th>resnet34</th>\n",
       "      <td>21289802</td>\n",
       "    </tr>\n",
       "    <tr>\n",
       "      <th>resnet50</th>\n",
       "      <td>23528522</td>\n",
       "    </tr>\n",
       "  </tbody>\n",
       "</table>\n",
       "</div>"
      ],
      "text/plain": [
       "                      number_of_parameters\n",
       "mobilenetv3_small_050               578474\n",
       "mobilenetv3_small_075              1027122\n",
       "mobilenetv3_small_100              1528106\n",
       "resnet18                          11181642\n",
       "resnet26                          13966666\n",
       "convmixer_768_32                  20348938\n",
       "resnet34                          21289802\n",
       "resnet50                          23528522"
      ]
     },
     "execution_count": 9,
     "metadata": {},
     "output_type": "execute_result"
    }
   ],
   "source": [
    "models = ['resnet18', 'resnet26', 'resnet34', 'resnet50', 'mobilenetv3_small_050', 'mobilenetv3_small_075', 'mobilenetv3_small_100', 'convmixer_768_32']\n",
    "model_evaluation = pd.DataFrame(index=models, columns=['number_of_parameters'])\n",
    "\n",
    "for model in models:\n",
    "    template = timm.create_model(model, num_classes=10)\n",
    "    model_evaluation.loc[model, 'number_of_parameters'] = count_model_parameters(template)\n",
    "\n",
    "model_evaluation.sort_values(by='number_of_parameters', inplace=True)\n",
    "model_evaluation"
   ]
  },
  {
   "cell_type": "code",
   "execution_count": 10,
   "metadata": {},
   "outputs": [],
   "source": [
    "with open(os.path.join(os.getcwd(), 'model_selection', 'number_of_par_table.tex'), 'w') as file:\n",
    "    file.write(model_evaluation.to_latex())"
   ]
  },
  {
   "cell_type": "markdown",
   "metadata": {},
   "source": [
    "# Dataset"
   ]
  },
  {
   "cell_type": "code",
   "execution_count": 12,
   "metadata": {},
   "outputs": [],
   "source": [
    "train_set = datasets.load_dataset('uoft-cs/cifar10', split='train')\n",
    "out_set = datasets.load_dataset('uoft-cs/cifar10', split='test')\n",
    "out_set = out_set.train_test_split(test_size=0.5)\n",
    "test_set = out_set['test']\n",
    "validation_set = out_set['train']\n",
    "\n",
    "# train_set = train_set.with_format('torch', device='cuda:0')\n",
    "# test_set = test_set.with_format('torch', device='cuda:0')\n",
    "# validation_set = validation_set.with_format('torch', device='cuda:0')\n",
    "\n",
    "# convert_tensor = transforms.ToTensor()\n",
    "# train_set = train_set.map(lambda sample: {'image': convert_tensor(sample['image'])})\n",
    "# train_set.set_format('pt', columns=['image'], output_all_columns=True)\n",
    "# validation_set = validation_set.map(lambda sample: {'image': convert_tensor(sample['image'])})\n",
    "# validation_set.set_format('pt', columns=['image'], output_all_columns=True)\n",
    "# test_set = test_set.map(lambda sample: {'image': convert_tensor(sample['image'])})\n",
    "# test_set.set_format('pt', columns=['image'], output_all_columns=True)"
   ]
  },
  {
   "cell_type": "code",
   "execution_count": 15,
   "metadata": {},
   "outputs": [
    {
     "data": {
      "text/plain": [
       "Dataset({\n",
       "    features: ['img', 'label'],\n",
       "    num_rows: 5000\n",
       "})"
      ]
     },
     "execution_count": 15,
     "metadata": {},
     "output_type": "execute_result"
    }
   ],
   "source": [
    "validation_set"
   ]
  },
  {
   "cell_type": "code",
   "execution_count": 7,
   "metadata": {},
   "outputs": [],
   "source": [
    "training_loader = torch.utils.data.DataLoader(train_set, batch_size=32, shuffle=True)\n",
    "validation_loader = torch.utils.data.DataLoader(validation_set, batch_size=32, shuffle=True)\n",
    "test_loader = torch.utils.data.DataLoader(test_set, batch_size=32, shuffle=True)"
   ]
  },
  {
   "cell_type": "code",
   "execution_count": 11,
   "metadata": {},
   "outputs": [
    {
     "data": {
      "text/html": [
       "<div>\n",
       "<style scoped>\n",
       "    .dataframe tbody tr th:only-of-type {\n",
       "        vertical-align: middle;\n",
       "    }\n",
       "\n",
       "    .dataframe tbody tr th {\n",
       "        vertical-align: top;\n",
       "    }\n",
       "\n",
       "    .dataframe thead th {\n",
       "        text-align: right;\n",
       "    }\n",
       "</style>\n",
       "<table border=\"1\" class=\"dataframe\">\n",
       "  <thead>\n",
       "    <tr style=\"text-align: right;\">\n",
       "      <th></th>\n",
       "      <th>test loss</th>\n",
       "      <th>test accuracy</th>\n",
       "    </tr>\n",
       "  </thead>\n",
       "  <tbody>\n",
       "    <tr>\n",
       "      <th>resnet18</th>\n",
       "      <td>NaN</td>\n",
       "      <td>NaN</td>\n",
       "    </tr>\n",
       "    <tr>\n",
       "      <th>resnet26</th>\n",
       "      <td>NaN</td>\n",
       "      <td>NaN</td>\n",
       "    </tr>\n",
       "    <tr>\n",
       "      <th>resnet34</th>\n",
       "      <td>NaN</td>\n",
       "      <td>NaN</td>\n",
       "    </tr>\n",
       "    <tr>\n",
       "      <th>resnet50</th>\n",
       "      <td>NaN</td>\n",
       "      <td>NaN</td>\n",
       "    </tr>\n",
       "    <tr>\n",
       "      <th>mobilenetv3_small_050</th>\n",
       "      <td>NaN</td>\n",
       "      <td>NaN</td>\n",
       "    </tr>\n",
       "    <tr>\n",
       "      <th>mobilenetv3_small_075</th>\n",
       "      <td>NaN</td>\n",
       "      <td>NaN</td>\n",
       "    </tr>\n",
       "    <tr>\n",
       "      <th>mobilenetv3_small_100</th>\n",
       "      <td>NaN</td>\n",
       "      <td>NaN</td>\n",
       "    </tr>\n",
       "    <tr>\n",
       "      <th>convmixer_768_32</th>\n",
       "      <td>NaN</td>\n",
       "      <td>NaN</td>\n",
       "    </tr>\n",
       "  </tbody>\n",
       "</table>\n",
       "</div>"
      ],
      "text/plain": [
       "                      test loss test accuracy\n",
       "resnet18                    NaN           NaN\n",
       "resnet26                    NaN           NaN\n",
       "resnet34                    NaN           NaN\n",
       "resnet50                    NaN           NaN\n",
       "mobilenetv3_small_050       NaN           NaN\n",
       "mobilenetv3_small_075       NaN           NaN\n",
       "mobilenetv3_small_100       NaN           NaN\n",
       "convmixer_768_32            NaN           NaN"
      ]
     },
     "execution_count": 11,
     "metadata": {},
     "output_type": "execute_result"
    }
   ],
   "source": [
    "final_test = pd.DataFrame(index=models, columns=['test loss', 'test accuracy'])\n",
    "final_test"
   ]
  },
  {
   "cell_type": "code",
   "execution_count": 14,
   "metadata": {},
   "outputs": [
    {
     "data": {
      "text/plain": [
       "nan"
      ]
     },
     "execution_count": 14,
     "metadata": {},
     "output_type": "execute_result"
    }
   ],
   "source": [
    "final_test.loc['resnet18', 'test loss']"
   ]
  },
  {
   "cell_type": "markdown",
   "metadata": {},
   "source": [
    "# Train-Validation-Test Evaluation of the Models"
   ]
  },
  {
   "cell_type": "code",
   "execution_count": 16,
   "metadata": {},
   "outputs": [],
   "source": [
    "evaluation_frame = {\n",
    "    model:\n",
    "        {\n",
    "            \"training_loss\": [],\n",
    "            \"validation_loss\": [],\n",
    "            \"training_acc\": [],\n",
    "            'validation_acc': [],\n",
    "        } for model in models\n",
    "}"
   ]
  },
  {
   "cell_type": "code",
   "execution_count": 17,
   "metadata": {},
   "outputs": [],
   "source": [
    "num_classes = 10\n",
    "in_chans = 1\n",
    "learning_rate = 0.0001"
   ]
  },
  {
   "cell_type": "code",
   "execution_count": 21,
   "metadata": {},
   "outputs": [
    {
     "name": "stdout",
     "output_type": "stream",
     "text": [
      "Training model resnet18\n",
      "Epoch 0 training loss: 2600.029\n",
      "Epoch 0 training accuracy: 0.733\n",
      "Epoch 0 validation loss: 174.299\n",
      "Epoch 0 validation accuracy: 0.849\n",
      "Final test loss: 174.567\n",
      "Final test accuracy: 0.851\n",
      "Training model resnet26\n",
      "Epoch 0 training loss: 2554.749\n",
      "Epoch 0 training accuracy: 0.694\n",
      "Epoch 0 validation loss: 184.644\n",
      "Epoch 0 validation accuracy: 0.821\n",
      "Final test loss: 183.685\n",
      "Final test accuracy: 0.821\n",
      "Training model resnet34\n",
      "Epoch 0 training loss: 2200.941\n",
      "Epoch 0 training accuracy: 0.810\n",
      "Epoch 0 validation loss: 141.181\n",
      "Epoch 0 validation accuracy: 0.889\n",
      "Final test loss: 140.932\n",
      "Final test accuracy: 0.888\n",
      "Training model resnet50\n",
      "Epoch 0 training loss: 1912.470\n",
      "Epoch 0 training accuracy: 0.791\n",
      "Epoch 0 validation loss: 98.222\n",
      "Epoch 0 validation accuracy: 0.871\n",
      "Final test loss: 98.094\n",
      "Final test accuracy: 0.872\n",
      "Training model mobilenetv3_small_050\n",
      "Epoch 0 training loss: 4931.209\n",
      "Epoch 0 training accuracy: 0.157\n",
      "Epoch 0 validation loss: 410.175\n",
      "Epoch 0 validation accuracy: 0.228\n",
      "Final test loss: 409.587\n",
      "Final test accuracy: 0.237\n",
      "Training model mobilenetv3_small_075\n",
      "Epoch 0 training loss: 5049.285\n",
      "Epoch 0 training accuracy: 0.196\n",
      "Epoch 0 validation loss: 430.580\n",
      "Epoch 0 validation accuracy: 0.256\n",
      "Final test loss: 439.601\n",
      "Final test accuracy: 0.244\n",
      "Training model mobilenetv3_small_100\n",
      "Epoch 0 training loss: 5338.533\n",
      "Epoch 0 training accuracy: 0.189\n",
      "Epoch 0 validation loss: 496.835\n",
      "Epoch 0 validation accuracy: 0.239\n",
      "Final test loss: 473.862\n",
      "Final test accuracy: 0.257\n",
      "Training model convmixer_768_32\n",
      "Epoch 0 training loss: 4267.172\n",
      "Epoch 0 training accuracy: 0.132\n",
      "Epoch 0 validation loss: 497.732\n",
      "Epoch 0 validation accuracy: 0.165\n",
      "Final test loss: 498.313\n",
      "Final test accuracy: 0.160\n"
     ]
    }
   ],
   "source": [
    "for model_name in models:\n",
    "    model = timm.create_model(model_name, num_classes=num_classes, in_chans=in_chans, pretrained=False)\n",
    "    model.to(DEVICE)\n",
    "    optimizer = torch.optim.SGD(model.parameters(), lr=learning_rate)\n",
    "    loss_func = torch.nn.CrossEntropyLoss()\n",
    "    print(f\"Training model {model_name}\")\n",
    "    \n",
    "    for epoch in range(1):\n",
    "        ## TRAIN\n",
    "        train_results = train_epoch(\n",
    "            train_loader=training_loader,\n",
    "            model=model,\n",
    "            optimizer=optimizer,\n",
    "            loss_func=loss_func\n",
    "        )\n",
    "        evaluation_frame[model_name]['training_loss'].append(train_results['total_training_loss'])\n",
    "        evaluation_frame[model_name]['training_acc'].append(train_results['total_training_correct'] / train_results['total_training_images'])\n",
    "        print(f\"Epoch {epoch} training loss: {train_results['total_training_loss']:.3f}\")\n",
    "        print(f\"Epoch {epoch} training accuracy: {train_results['total_training_correct'] / train_results['total_training_images']:.3f}\")\n",
    "        \n",
    "        ## VALIDATE\n",
    "        validation_results = validation_epoch(\n",
    "            validation_loader=validation_loader,\n",
    "            model=model,\n",
    "            loss_func=loss_func\n",
    "        )\n",
    "        evaluation_frame[model_name]['validation_loss'].append(validation_results['total_validation_loss'])\n",
    "        evaluation_frame[model_name]['validation_acc'].append(validation_results['total_validation_correct'] / validation_results['total_validation_images'])\n",
    "        print(f\"Epoch {epoch} validation loss: {validation_results['total_validation_loss']:.3f}\")\n",
    "        print(f\"Epoch {epoch} validation accuracy: {validation_results['total_validation_correct'] / validation_results['total_validation_images']:.3f}\")\n",
    "\n",
    "    ## TEST\n",
    "    test_results = validation_epoch(\n",
    "        validation_loader=test_loader,\n",
    "        model=model,\n",
    "        loss_func=loss_func\n",
    "    )\n",
    "    print(f\"Final test loss: {test_results['total_validation_loss']:.3f}\")\n",
    "    print(f\"Final test accuracy: {test_results['total_validation_correct'] / test_results['total_validation_images']:.3f}\")\n",
    "\n",
    "    final_test.loc[model_name, 'test loss'] = test_results['total_validation_loss']\n",
    "    final_test.loc[model_name, 'test accuracy'] = test_results['total_validation_correct'] / test_results['total_validation_images']\n"
   ]
  },
  {
   "cell_type": "code",
   "execution_count": 33,
   "metadata": {},
   "outputs": [],
   "source": [
    "for frame, results in evaluation_frame.items():\n",
    "    with open(os.path.join(os.getcwd(), 'model_selection', f'{frame}.csv'), 'w') as file:\n",
    "        file.write('epoch,training_loss,validation_loss,training_acc,validation_acc\\n')\n",
    "        for epoch in range(len(results['training_loss'])):\n",
    "            file.write(f\"{epoch},{results['training_loss'][epoch]},{results['validation_loss'][epoch]},{results['training_acc'][epoch]},{results['validation_acc'][epoch]}\\n\")\n",
    "\n",
    "with open(os.path.join(os.getcwd(), 'model_selection', \"final_test_results.csv\"), 'w') as file:\n",
    "    file.write(final_test.to_csv())"
   ]
  }
 ],
 "metadata": {
  "kernelspec": {
   "display_name": ".venv",
   "language": "python",
   "name": "python3"
  },
  "language_info": {
   "codemirror_mode": {
    "name": "ipython",
    "version": 3
   },
   "file_extension": ".py",
   "mimetype": "text/x-python",
   "name": "python",
   "nbconvert_exporter": "python",
   "pygments_lexer": "ipython3",
   "version": "3.11.5"
  }
 },
 "nbformat": 4,
 "nbformat_minor": 2
}
